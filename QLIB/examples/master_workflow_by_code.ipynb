{
 "cells": [
  {
   "cell_type": "markdown",
   "metadata": {},
   "source": [
    "<a href=\"https://colab.research.google.com/github/microsoft/qlib/blob/main/examples/workflow_by_code.ipynb\" target=\"_parent\"><img src=\"https://colab.research.google.com/assets/colab-badge.svg\" alt=\"Open In Colab\"/></a>"
   ]
  },
  {
   "cell_type": "markdown",
   "metadata": {},
   "source": [
    "# Workflow of Qlib"
   ]
  },
  {
   "cell_type": "markdown",
   "metadata": {},
   "source": [
    "## Importing Dependencies"
   ]
  },
  {
   "cell_type": "code",
   "execution_count": 1,
   "metadata": {},
   "outputs": [],
   "source": [
    "from datetime import datetime\n",
    "import os\n",
    "from pathlib import Path\n",
    "import pickle\n",
    "import sys\n",
    "import qlib\n",
    "from qlib.config import REG_CN\n",
    "from qlib.utils import init_instance_by_config\n",
    "from qlib.workflow import R\n",
    "from qlib.workflow.record_temp import SignalRecord, SigAnaRecord, PortAnaRecord\n",
    "from qlib.contrib.model.pytorch_master_ts import MASTERModel\n",
    "from qlib.contrib.data.dataset import MASTERTSDatasetH\n",
    "from qlib.contrib.data.handler import Alpha158"
   ]
  },
  {
   "cell_type": "markdown",
   "metadata": {},
   "source": [
    "## Initializing Qlib"
   ]
  },
  {
   "cell_type": "code",
   "execution_count": 2,
   "metadata": {},
   "outputs": [
    {
     "name": "stderr",
     "output_type": "stream",
     "text": [
      "\u001b[32m2025-04-07 12:10:13.558\u001b[0m | \u001b[33m\u001b[1mWARNING \u001b[0m | \u001b[36mqlib.tests.data\u001b[0m:\u001b[36mqlib_data\u001b[0m:\u001b[36m195\u001b[0m - \u001b[33m\u001b[1mData already exists: ~/QuantProject/.qlib/qlib_data/cn_data, the data download will be skipped\n",
      "\tIf downloading is required: `exists_skip=False` or `change target_dir`\u001b[0m\n",
      "[1361680:MainThread](2025-04-07 12:10:13,576) INFO - qlib.Initialization - [config.py:420] - default_conf: client.\n",
      "[1361680:MainThread](2025-04-07 12:10:13,585) INFO - qlib.Initialization - [__init__.py:74] - qlib successfully initialized based on client settings.\n",
      "[1361680:MainThread](2025-04-07 12:10:13,586) INFO - qlib.Initialization - [__init__.py:76] - data_path={'__DEFAULT_FREQ': PosixPath('/home/24039378g/QuantProject/.qlib/qlib_data/cn_data')}\n"
     ]
    }
   ],
   "source": [
    "from qlib.tests.data import GetData\n",
    "\n",
    "\n",
    "provider_uri = \"~/QuantProject/.qlib/qlib_data/cn_data\"\n",
    "GetData().qlib_data(target_dir=provider_uri, region=REG_CN, exists_skip=True)\n",
    "qlib.init(provider_uri=provider_uri, region=REG_CN)"
   ]
  },
  {
   "cell_type": "markdown",
   "metadata": {},
   "source": [
    "## Configuration of Workflow"
   ]
  },
  {
   "cell_type": "code",
   "execution_count": 3,
   "metadata": {},
   "outputs": [],
   "source": [
    "# 配置参数\n",
    "market = \"csi300\"\n",
    "benchmark = \"SH000300\"\n",
    "\n",
    "# 数据处理器配置\n",
    "data_handler_config = {\n",
    "    \"start_time\": \"2008-01-01\",\n",
    "    \"end_time\": \"2020-08-01\",\n",
    "    \"fit_start_time\": \"2008-01-01\",\n",
    "    \"fit_end_time\": \"2014-12-31\",\n",
    "    \"instruments\": market,\n",
    "    \"infer_processors\": [\n",
    "        {\n",
    "            \"class\": \"RobustZScoreNorm\",\n",
    "            \"kwargs\": {\n",
    "                \"fields_group\": \"feature\",\n",
    "                \"clip_outlier\": True\n",
    "            }\n",
    "        },\n",
    "        {\n",
    "            \"class\": \"Fillna\",\n",
    "            \"kwargs\": {\n",
    "                \"fields_group\": \"feature\"\n",
    "            }\n",
    "        }\n",
    "    ],\n",
    "    \"learn_processors\": [\n",
    "        {\"class\": \"DropnaLabel\"},\n",
    "        {\n",
    "            \"class\": \"CSRankNorm\",\n",
    "            \"kwargs\": {\n",
    "                \"fields_group\": \"label\"\n",
    "            }\n",
    "        }\n",
    "    ],\n",
    "    # \"label\": [\"Ref($close, -5) / Ref($close, -1) - 1\"]\n",
    "}\n",
    "\n",
    "market_data_handler_config = {\n",
    "    \"start_time\": \"2008-01-01\",\n",
    "    \"end_time\": \"2020-08-01\",\n",
    "    \"fit_start_time\": \"2008-01-01\",\n",
    "    \"fit_end_time\": \"2014-12-31\",\n",
    "    \"instruments\": market,\n",
    "    \"infer_processors\": [\n",
    "        {\n",
    "            \"class\": \"RobustZScoreNorm\",\n",
    "            \"kwargs\": {\n",
    "                \"fields_group\": \"feature\",\n",
    "                \"clip_outlier\": True\n",
    "            }\n",
    "        },\n",
    "        {\n",
    "            \"class\": \"Fillna\",\n",
    "            \"kwargs\": {\n",
    "                \"fields_group\": \"feature\"\n",
    "            }\n",
    "        }\n",
    "    ]\n",
    "}\n",
    "\n",
    "# 模型配置\n",
    "model_config = {\n",
    "    \"class\": \"MASTERModel\",\n",
    "    \"module_path\": \"qlib.contrib.model.pytorch_master_ts\",\n",
    "    \"kwargs\": {\n",
    "        \"seed\": 0,\n",
    "        \"n_epochs\": 1,\n",
    "        \"lr\": 0.000008,\n",
    "        \"train_stop_loss_thred\": 0.95,\n",
    "        \"market\": market,\n",
    "        \"benchmark\": benchmark,\n",
    "        \"save_prefix\": market\n",
    "    }\n",
    "}\n",
    "\n",
    "# 数据集配置\n",
    "dataset_config = {\n",
    "    \"class\": \"MASTERTSDatasetH\",\n",
    "    \"module_path\": \"qlib.contrib.data.dataset\",\n",
    "    \"kwargs\": {\n",
    "        \"handler\": {\n",
    "            \"class\": \"Alpha158\",\n",
    "            \"module_path\": \"qlib.contrib.data.handler\",\n",
    "            \"kwargs\": data_handler_config\n",
    "        },\n",
    "        \"segments\": {\n",
    "            \"train\": [\"2008-01-01\", \"2014-12-31\"],\n",
    "            \"valid\": [\"2015-01-01\", \"2016-12-31\"],\n",
    "            \"test\": [\"2017-01-01\", \"2020-08-01\"]\n",
    "        },\n",
    "        \"step_len\": 8,\n",
    "        \"market_data_handler_config\": market_data_handler_config\n",
    "    }\n",
    "}\n",
    "\n",
    "task = {\"model\": model_config,\"dataset\": dataset_config}"
   ]
  },
  {
   "cell_type": "markdown",
   "metadata": {},
   "source": [
    "## Creating Model and Dataset Instances"
   ]
  },
  {
   "cell_type": "code",
   "execution_count": 4,
   "metadata": {},
   "outputs": [
    {
     "name": "stdout",
     "output_type": "stream",
     "text": [
      "\n",
      "模型参数量统计:\n",
      "--------------------------------------------------\n",
      "特征门控层 (Gate): 10,112 参数\n",
      "输入映射层 (x2y): 40,704 参数\n",
      "时间注意力层 (TAttention): 329,216 参数\n",
      "空间注意力层 (SAttention): 329,216 参数\n",
      "时序注意力层 (TemporalAttention): 65,536 参数\n",
      "解码器 (Decoder): 257 参数\n",
      "--------------------------------------------------\n",
      "总参数量: 775,041\n"
     ]
    },
    {
     "name": "stderr",
     "output_type": "stream",
     "text": [
      "[1361680:MainThread](2025-04-07 12:10:23,546) INFO - qlib.timer - [log.py:127] - Time cost: 7.706s | Loading data Done\n",
      "/home/24039378g/.conda/envs/MASTER/lib/python3.12/site-packages/numpy/lib/nanfunctions.py:1217: RuntimeWarning: All-NaN slice encountered\n",
      "  return function_base._ureduce(a, func=_nanmedian, keepdims=keepdims,\n",
      "[1361680:MainThread](2025-04-07 12:10:28,584) INFO - qlib.timer - [log.py:127] - Time cost: 4.537s | RobustZScoreNorm Done\n",
      "[1361680:MainThread](2025-04-07 12:10:29,207) INFO - qlib.timer - [log.py:127] - Time cost: 0.618s | Fillna Done\n",
      "[1361680:MainThread](2025-04-07 12:10:29,631) INFO - qlib.timer - [log.py:127] - Time cost: 0.224s | DropnaLabel Done\n",
      "/home/24039378g/QuantProject/QLIB/qlib/data/dataset/processor.py:370: SettingWithCopyWarning: \n",
      "A value is trying to be set on a copy of a slice from a DataFrame.\n",
      "Try using .loc[row_indexer,col_indexer] = value instead\n",
      "\n",
      "See the caveats in the documentation: https://pandas.pydata.org/pandas-docs/stable/user_guide/indexing.html#returning-a-view-versus-a-copy\n",
      "  df[cols] = t\n",
      "[1361680:MainThread](2025-04-07 12:10:29,867) INFO - qlib.timer - [log.py:127] - Time cost: 0.235s | CSRankNorm Done\n",
      "[1361680:MainThread](2025-04-07 12:10:29,869) INFO - qlib.timer - [log.py:127] - Time cost: 6.320s | fit & process data Done\n",
      "[1361680:MainThread](2025-04-07 12:10:29,870) INFO - qlib.timer - [log.py:127] - Time cost: 14.030s | Init data Done\n",
      "[1361680:MainThread](2025-04-07 12:10:33,376) INFO - qlib.timer - [log.py:127] - Time cost: 3.475s | Loading data Done\n",
      "[1361680:MainThread](2025-04-07 12:10:34,685) INFO - qlib.timer - [log.py:127] - Time cost: 1.243s | RobustZScoreNorm Done\n",
      "[1361680:MainThread](2025-04-07 12:10:34,852) INFO - qlib.timer - [log.py:127] - Time cost: 0.164s | Fillna Done\n",
      "[1361680:MainThread](2025-04-07 12:10:34,868) INFO - qlib.timer - [log.py:127] - Time cost: 1.490s | fit & process data Done\n",
      "[1361680:MainThread](2025-04-07 12:10:34,869) INFO - qlib.timer - [log.py:127] - Time cost: 4.969s | Init data Done\n"
     ]
    }
   ],
   "source": [
    "model = init_instance_by_config(model_config)\n",
    "dataset = init_instance_by_config(dataset_config)"
   ]
  },
  {
   "cell_type": "markdown",
   "metadata": {},
   "source": [
    "## Loading or Training Model"
   ]
  },
  {
   "cell_type": "code",
   "execution_count": 5,
   "metadata": {},
   "outputs": [
    {
     "name": "stderr",
     "output_type": "stream",
     "text": [
      "[1361680:MainThread](2025-04-07 12:10:35,022) INFO - qlib.workflow - [exp.py:258] - Experiment 566184983307789232 starts running ...\n"
     ]
    },
    {
     "name": "stderr",
     "output_type": "stream",
     "text": [
      "[1361680:MainThread](2025-04-07 12:10:35,171) INFO - qlib.workflow - [recorder.py:345] - Recorder 3600eb5d9f214f24b918aa01474729d0 starts running under Experiment 566184983307789232 ...\n",
      "[1361680:MainThread](2025-04-07 12:10:35,374) INFO - qlib.timer - [log.py:127] - Time cost: 0.000s | waiting `async_log` Done\n"
     ]
    }
   ],
   "source": [
    "# timestamp = datetime.now().strftime(\"%Y%m%d_%H%M%S\")\n",
    "# model_name = f\"{market}{model_config[\"class\"]}_0\"\n",
    "from qlib.utils import flatten_dict\n",
    "\n",
    "\n",
    "model_name = f\"csi300master_3\"\n",
    "model_file_path = Path(f\"./model/{model_name}.pkl\")\n",
    "\n",
    "if not os.path.exists('./model'):\n",
    "    os.makedirs('./model')\n",
    "    \n",
    "with R.start(experiment_name=\"train_model\"):\n",
    "    if not model_file_path.exists():\n",
    "        try:\n",
    "            # R.log_params(**model_config[\"kwargs\"])\n",
    "            R.log_params(**flatten_dict(task))\n",
    "            # print(\"文件列表:\", list(R.get_recorder().list_artifacts()))\n",
    "            \n",
    "            # 方法1：使用 sys.stdout.write\n",
    "            def custom_print(*args, **kwargs):\n",
    "                msg = ' '.join(map(str, args)) + '\\n'\n",
    "                import sys\n",
    "                sys.stdout.write(msg)\n",
    "            \n",
    "            # 临时替换 print\n",
    "            import builtins\n",
    "            orig_print = builtins.print\n",
    "            builtins.print = custom_print\n",
    "        \n",
    "            model.fit(dataset)  # 训练模型\n",
    "            R.save_objects(trained_model=model)\n",
    "            \n",
    "        finally:\n",
    "            builtins.print = orig_print  # 确保恢复原始 print\n",
    "            # pkl_path = os.path.join(\"./model\", f\"{model_name}.pkl\")\n",
    "            # with open(pkl_path, \"wb\") as f:\n",
    "            #     pickle.dump(model, f)\n",
    "            # 在master model里有一个生成函数\n",
    "        \n",
    "    else:\n",
    "        model.load_model(f\"./model/{model_name}.pkl\")\n",
    "        R.save_objects(trained_model=model)\n",
    "        \n",
    "    rid = R.get_recorder().id"
   ]
  },
  {
   "cell_type": "code",
   "execution_count": 11,
   "metadata": {},
   "outputs": [],
   "source": [
    "port_analysis_config = {\n",
    "    # 策略配置 - 核心交易逻辑\n",
    "    \"strategy\": {\n",
    "        \"class\": \"TopkDropoutStrategy\",\n",
    "        \"module_path\": \"qlib.contrib.strategy.signal_strategy\",\n",
    "        \"kwargs\": {\n",
    "            \"model\": model,    # 使用训练好的模型\n",
    "            \"dataset\": dataset,  # 使用准备好的数据集\n",
    "            \"topk\": 50,       # 持有前50只股票\n",
    "            \"n_drop\": 5       # 每日淘汰5只表现最差的\n",
    "        }\n",
    "    },\n",
    "    \n",
    "    # 执行器配置 - 处理交易执行\n",
    "    \"executor\": {\n",
    "        \"class\": \"SimulatorExecutor\",\n",
    "        \"module_path\": \"qlib.backtest.executor\",\n",
    "        \"kwargs\": {\n",
    "            \"time_per_step\": \"day\",  # 按日频交易\n",
    "            \"generate_portfolio_metrics\": True  # 生成组合指标\n",
    "        }\n",
    "    },\n",
    "    \n",
    "    # 回测配置 - 策略验证\n",
    "    \"backtest\": {\n",
    "        \"start_time\": \"2017-01-01\",  # 回测开始时间\n",
    "        \"end_time\": \"2020-08-01\",    # 回测结束时间\n",
    "        \"account\": 100000000,        # 初始资金1亿元\n",
    "        \"benchmark\": benchmark,      # 基准指数\n",
    "        \"exchange_kwargs\": {\n",
    "            \"freq\": \"day\",           # 日频交易\n",
    "            \"limit_threshold\": 0.095, # 涨跌停限制\n",
    "            \"deal_price\": \"close\",    # 以收盘价成交\n",
    "            \"open_cost\": 0.0005,      # 买入佣金0.05%\n",
    "            \"close_cost\": 0.0015,     # 卖出佣金0.15%\n",
    "            \"min_cost\": 5            # 最低佣金5元\n",
    "        }\n",
    "    }\n",
    "}"
   ]
  },
  {
   "cell_type": "code",
   "execution_count": 7,
   "metadata": {},
   "outputs": [
    {
     "data": {
      "image/png": "[encoded data removed]",
      "text/plain": [
       "<Figure size 1200x300 with 1 Axes>"
      ]
     },
     "metadata": {},
     "output_type": "display_data"
    }
   ],
   "source": [
    "import matplotlib.pyplot as plt\n",
    "import matplotlib.dates as mdates\n",
    "from matplotlib.patches import Rectangle\n",
    "from matplotlib.font_manager import FontProperties\n",
    "from datetime import datetime\n",
    "import pandas as pd\n",
    "\n",
    "# 从配置中获取时间区间（示例数据，请替换为您的实际配置）\n",
    "time_ranges = [\n",
    "    (\"Train\", \"2008-01-01\", \"2014-12-31\", \"#2ca02c\"),\n",
    "    (\"Valid\", \"2015-01-01\", \"2016-12-31\", \"#ff7f0e\"),\n",
    "    (\"Test\", \"2017-01-01\", \"2020-08-01\", \"#d62728\")\n",
    "]\n",
    "\n",
    "# 转换为datetime对象\n",
    "time_ranges = [\n",
    "    (label, datetime.strptime(start, \"%Y-%m-%d\"), \n",
    "     datetime.strptime(end, \"%Y-%m-%d\"), color)\n",
    "    for label, start, end, color in time_ranges\n",
    "]\n",
    "\n",
    "# 创建图表\n",
    "fig, ax = plt.subplots(figsize=(12, 3))\n",
    "\n",
    "# 绘制时间区间块\n",
    "y = 1\n",
    "for label, start, end, color in time_ranges:\n",
    "    # 使用日期数值作为x轴坐标\n",
    "    start_num = mdates.date2num(start)\n",
    "    end_num = mdates.date2num(end)\n",
    "    width = end_num - start_num\n",
    "    \n",
    "    rect = Rectangle(\n",
    "        (start_num, y-0.4), width, 0.8,\n",
    "        facecolor=color, alpha=0.6,\n",
    "        edgecolor=color, linewidth=2\n",
    "    )\n",
    "    ax.add_patch(rect)\n",
    "    \n",
    "    # 添加标签\n",
    "    ax.text(start_num + width/2, y, label,\n",
    "            ha='center', va='center', fontsize=12)\n",
    "\n",
    "# 设置坐标轴\n",
    "ax.set_xlim(mdates.date2num(time_ranges[0][1]), \n",
    "            mdates.date2num(time_ranges[-1][2]))\n",
    "ax.set_ylim(0, 2)\n",
    "ax.yaxis.set_visible(False)\n",
    "\n",
    "# 设置日期格式\n",
    "ax.xaxis.set_major_locator(mdates.YearLocator())\n",
    "ax.xaxis.set_major_formatter(mdates.DateFormatter(\"%Y-%m\"))\n",
    "fig.autofmt_xdate()\n",
    "\n",
    "# 添加标题和网格\n",
    "plt.title(\"Dataset Time Partition\", pad=20)\n",
    "plt.xlabel(\"Time Interval\",)\n",
    "plt.grid(axis='x', linestyle=':', alpha=0.5)\n",
    "\n",
    "# 添加图例\n",
    "legend_patches = [\n",
    "    plt.Rectangle((0,0), 1, 1, fc=color, alpha=0.6, label=label)\n",
    "    for label, _, _, color in time_ranges\n",
    "]\n",
    "plt.legend(handles=legend_patches, loc='upper right')\n",
    "\n",
    "plt.tight_layout()\n",
    "plt.savefig(\"./model/data_time_ranges.png\", dpi=300, bbox_inches='tight')\n",
    "plt.show()"
   ]
  },
  {
   "cell_type": "code",
   "execution_count": 8,
   "metadata": {},
   "outputs": [],
   "source": [
    "all_metrics = {\n",
    "    k: []\n",
    "    for k in [\n",
    "        \"IC\",\n",
    "        \"ICIR\",\n",
    "        \"Rank IC\",\n",
    "        \"Rank ICIR\",\n",
    "        \"1day.excess_return_without_cost.annualized_return\",\n",
    "        \"1day.excess_return_without_cost.information_ratio\",\n",
    "    ]\n",
    "}"
   ]
  },
  {
   "cell_type": "code",
   "execution_count": 12,
   "metadata": {},
   "outputs": [
    {
     "name": "stderr",
     "output_type": "stream",
     "text": [
      "[1361680:MainThread](2025-04-07 12:15:21,283) INFO - qlib.workflow - [exp.py:258] - Experiment 362767161650010529 starts running ...\n",
      "[1361680:MainThread](2025-04-07 12:15:21,336) INFO - qlib.workflow - [recorder.py:345] - Recorder e03b74adb22d4231895a6772384ba9be starts running under Experiment 362767161650010529 ...\n"
     ]
    },
    {
     "name": "stdout",
     "output_type": "stream",
     "text": [
      "[STATUS]: MODEL TRAINING/ LOADING FINISHED\n"
     ]
    },
    {
     "name": "stderr",
     "output_type": "stream",
     "text": [
      "[1361680:MainThread](2025-04-07 12:15:36,709) INFO - qlib.workflow - [record_temp.py:198] - Signal record 'pred.pkl' has been saved as the artifact of the Experiment 362767161650010529\n"
     ]
    },
    {
     "name": "stdout",
     "output_type": "stream",
     "text": [
      "'The following are prediction results of the MASTERModel model.'\n",
      "                              0\n",
      "datetime   instrument          \n",
      "2017-01-03 SH600000   -0.088509\n",
      "           SH600008    0.034699\n",
      "           SH600009    0.114184\n",
      "           SH600010   -0.067569\n",
      "           SH600015    0.010013\n"
     ]
    },
    {
     "name": "stderr",
     "output_type": "stream",
     "text": [
      "[1361680:MainThread](2025-04-07 12:15:37,443) INFO - qlib.timer - [log.py:127] - Time cost: 0.008s | waiting `async_log` Done\n"
     ]
    },
    {
     "name": "stdout",
     "output_type": "stream",
     "text": [
      "{'IC': 0.037163166200772244,\n",
      " 'ICIR': 0.24605417856665504,\n",
      " 'Rank IC': 0.05348089997205717,\n",
      " 'Rank ICIR': 0.367138844733908}\n"
     ]
    },
    {
     "ename": "KeyError",
     "evalue": "'strategy'",
     "output_type": "error",
     "traceback": [
      "\u001b[31m---------------------------------------------------------------------------\u001b[39m",
      "\u001b[31mKeyError\u001b[39m                                  Traceback (most recent call last)",
      "\u001b[36mCell\u001b[39m\u001b[36m \u001b[39m\u001b[32mIn[12]\u001b[39m\u001b[32m, line 22\u001b[39m\n\u001b[32m     19\u001b[39m sar.generate()\n\u001b[32m     21\u001b[39m \u001b[38;5;66;03m# backtest & analysis\u001b[39;00m\n\u001b[32m---> \u001b[39m\u001b[32m22\u001b[39m par = \u001b[43mPortAnaRecord\u001b[49m\u001b[43m(\u001b[49m\u001b[43mrecorder\u001b[49m\u001b[43m,\u001b[49m\u001b[43m \u001b[49m\u001b[43mport_analysis_config\u001b[49m\u001b[43m,\u001b[49m\u001b[43m \u001b[49m\u001b[33;43m\"\u001b[39;49m\u001b[33;43mday\u001b[39;49m\u001b[33;43m\"\u001b[39;49m\u001b[43m)\u001b[49m\n\u001b[32m     23\u001b[39m par.generate()\n\u001b[32m     25\u001b[39m metrics = recorder.list_metrics()\n",
      "\u001b[36mFile \u001b[39m\u001b[32m~/QuantProject/QLIB/qlib/workflow/record_temp.py:426\u001b[39m, in \u001b[36mPortAnaRecord.__init__\u001b[39m\u001b[34m(self, recorder, config, risk_analysis_freq, indicator_analysis_freq, indicator_analysis_method, skip_existing, **kwargs)\u001b[39m\n\u001b[32m    421\u001b[39m \u001b[38;5;66;03m# We only deepcopy_basic_type because\u001b[39;00m\n\u001b[32m    422\u001b[39m \u001b[38;5;66;03m# - We don't want to affect the config outside.\u001b[39;00m\n\u001b[32m    423\u001b[39m \u001b[38;5;66;03m# - We don't want to deepcopy complex object to avoid overhead\u001b[39;00m\n\u001b[32m    424\u001b[39m config = deepcopy_basic_type(config)\n\u001b[32m--> \u001b[39m\u001b[32m426\u001b[39m \u001b[38;5;28mself\u001b[39m.strategy_config = \u001b[43mconfig\u001b[49m\u001b[43m[\u001b[49m\u001b[33;43m\"\u001b[39;49m\u001b[33;43mstrategy\u001b[39;49m\u001b[33;43m\"\u001b[39;49m\u001b[43m]\u001b[49m\n\u001b[32m    427\u001b[39m _default_executor_config = {\n\u001b[32m    428\u001b[39m     \u001b[33m\"\u001b[39m\u001b[33mclass\u001b[39m\u001b[33m\"\u001b[39m: \u001b[33m\"\u001b[39m\u001b[33mSimulatorExecutor\u001b[39m\u001b[33m\"\u001b[39m,\n\u001b[32m    429\u001b[39m     \u001b[33m\"\u001b[39m\u001b[33mmodule_path\u001b[39m\u001b[33m\"\u001b[39m: \u001b[33m\"\u001b[39m\u001b[33mqlib.backtest.executor\u001b[39m\u001b[33m\"\u001b[39m,\n\u001b[32m   (...)\u001b[39m\u001b[32m    433\u001b[39m     },\n\u001b[32m    434\u001b[39m }\n\u001b[32m    435\u001b[39m \u001b[38;5;28mself\u001b[39m.executor_config = config.get(\u001b[33m\"\u001b[39m\u001b[33mexecutor\u001b[39m\u001b[33m\"\u001b[39m, _default_executor_config)\n",
      "\u001b[31mKeyError\u001b[39m: 'strategy'"
     ]
    }
   ],
   "source": [
    "# backtest and analysis\n",
    "import numpy as np\n",
    "\n",
    "\n",
    "print(f\"[Status]: Model Training/ Loading finished\".upper())\n",
    "with R.start(experiment_name=\"backtest_analysis\"):\n",
    "    recorder = R.get_recorder(recorder_id=rid, experiment_name=\"train_model\")\n",
    "    model = recorder.load_object(\"trained_model\")\n",
    "\n",
    "    # prediction\n",
    "    recorder = R.get_recorder()\n",
    "    ba_rid = recorder.id\n",
    "    \n",
    "    sr = SignalRecord(model, dataset, recorder)\n",
    "    sr.generate()\n",
    "    \n",
    "    # Signal Analysis\n",
    "    sar = SigAnaRecord(recorder)\n",
    "    sar.generate()\n",
    "\n",
    "    # backtest & analysis\n",
    "    par = PortAnaRecord(recorder, port_analysis_config, \"day\")\n",
    "    par.generate()\n",
    "    \n",
    "    metrics = recorder.list_metrics()\n",
    "    print(f\"Metrics: {metrics}\")\n",
    "    for k in all_metrics.keys():\n",
    "        all_metrics[k].append(metrics[k])\n",
    "    print(f\"All metrics: {all_metrics}\")\n",
    "    print(f\"Available metrics: {metrics.keys()}\")\n",
    "    \n",
    "for k in all_metrics.keys():\n",
    "        print(f\"{k}: {np.mean(all_metrics[k])} +- {np.std(all_metrics[k])}\")\n"
   ]
  },
  {
   "cell_type": "code",
   "execution_count": 75,
   "metadata": {},
   "outputs": [],
   "source": [
    "recorder = R.get_recorder(recorder_id=ba_rid, experiment_name=\"backtest_analysis\")\n",
    "print(recorder)\n",
    "\n",
    "pred_df = recorder.load_object(\"pred.pkl\")\n",
    "\n",
    "report_normal_df = recorder.load_object(\"portfolio_analysis/report_normal_1day.pkl\")\n",
    "\n",
    "positions = recorder.load_object(\"portfolio_analysis/positions_normal_1day.pkl\")\n",
    "\n",
    "analysis_df = recorder.load_object(\"portfolio_analysis/port_analysis_1day.pkl\")"
   ]
  },
  {
   "cell_type": "code",
   "execution_count": null,
   "metadata": {},
   "outputs": [
    {
     "name": "stdout",
     "output_type": "stream",
     "text": [
      "Saved figure 0 to figure_results/new/报告图表0.png\n"
     ]
    },
    {
     "name": "stderr",
     "output_type": "stream",
     "text": [
      "/home/24039378g/QuantProject/QLIB/qlib/contrib/report/analysis_position/risk_analysis.py:102: FutureWarning:\n",
      "\n",
      "When grouping with a length-1 list-like, you will need to pass a length-1 tuple to get_group in a future version of pandas. Pass `(name,)` instead of `name` to silence this warning.\n",
      "\n",
      "/home/24039378g/QuantProject/QLIB/qlib/contrib/report/analysis_position/risk_analysis.py:102: FutureWarning:\n",
      "\n",
      "When grouping with a length-1 list-like, you will need to pass a length-1 tuple to get_group in a future version of pandas. Pass `(name,)` instead of `name` to silence this warning.\n",
      "\n",
      "/home/24039378g/QuantProject/QLIB/qlib/contrib/report/analysis_position/risk_analysis.py:102: FutureWarning:\n",
      "\n",
      "When grouping with a length-1 list-like, you will need to pass a length-1 tuple to get_group in a future version of pandas. Pass `(name,)` instead of `name` to silence this warning.\n",
      "\n",
      "/home/24039378g/QuantProject/QLIB/qlib/contrib/report/analysis_position/risk_analysis.py:102: FutureWarning:\n",
      "\n",
      "When grouping with a length-1 list-like, you will need to pass a length-1 tuple to get_group in a future version of pandas. Pass `(name,)` instead of `name` to silence this warning.\n",
      "\n"
     ]
    },
    {
     "name": "stdout",
     "output_type": "stream",
     "text": [
      "Saved figure 0 to figure_results/new/风险分析图表0.png\n",
      "Saved figure 1 to figure_results/new/风险分析图表1.png\n",
      "Saved figure 2 to figure_results/new/风险分析图表2.png\n",
      "Saved figure 3 to figure_results/new/风险分析图表3.png\n",
      "Saved figure 4 to figure_results/new/风险分析图表4.png\n",
      "Reshaped label DataFrame:\n",
      "    datetime instrument label\n",
      "0 2016-12-21   SH600000     0\n",
      "1 2016-12-22   SH600000   300\n",
      "2 2016-12-23   SH600000   600\n",
      "3 2016-12-26   SH600000   900\n",
      "4 2016-12-27   SH600000  1200\n",
      "datetime      0\n",
      "instrument    0\n",
      "label         0\n",
      "score         0\n",
      "dtype: int64\n",
      "Saved figure 0 to figure_results/new/IC图表0.png\n"
     ]
    },
    {
     "name": "stderr",
     "output_type": "stream",
     "text": [
      "/home/24039378g/QuantProject/QLIB/qlib/contrib/report/analysis_model/analysis_model_performance.py:155: FutureWarning:\n",
      "\n",
      "'M' is deprecated and will be removed in a future version, please use 'ME' instead.\n",
      "\n"
     ]
    },
    {
     "name": "stdout",
     "output_type": "stream",
     "text": [
      "Saved figure 0 to figure_results/new/模型性能图表0.png\n",
      "Saved figure 1 to figure_results/new/模型性能图表1.png\n",
      "Saved figure 2 to figure_results/new/模型性能图表2.png\n",
      "Saved figure 3 to figure_results/new/模型性能图表3.png\n",
      "Saved figure 4 to figure_results/new/模型性能图表4.png\n",
      "Saved figure 5 to figure_results/new/模型性能图表5.png\n",
      "[STATUS]: MISSION COMPLETED\n"
     ]
    }
   ],
   "source": [
    "from qlib.contrib.report import analysis_model, analysis_position\n",
    "import pandas as pd\n",
    "\n",
    "save_dir = \"figure_results/new\"\n",
    "os.makedirs(save_dir, exist_ok=True)\n",
    "\n",
    "figs = analysis_position.report_graph(report_normal_df, show_notebook=False)\n",
    "if not figs:\n",
    "    raise ValueError(\"No figures were generated by `report_graph`. Please check the input data.\")\n",
    "\n",
    "for i, _fig in enumerate(figs):\n",
    "    fig_path = f\"{save_dir}/报告图表{i}.png\"\n",
    "    try:\n",
    "        _fig.write_image(fig_path)\n",
    "        print(f\"Saved figure {i} to {fig_path}\")\n",
    "    except Exception as e:\n",
    "        print(f\"Error saving figure {i}: {e}\")\n",
    "\n",
    "figs = analysis_position.risk_analysis_graph(analysis_df, report_normal_df, show_notebook=False)\n",
    "if not figs:\n",
    "    raise ValueError(\"No figures were generated by `risk_analysis_graph`. Please check the input data.\")\n",
    "\n",
    "for i, _fig in enumerate(figs):\n",
    "    fig_path = f\"{save_dir}/风险分析图表{i}.png\"\n",
    "    try:\n",
    "        _fig.write_image(fig_path)\n",
    "        print(f\"Saved figure {i} to {fig_path}\")\n",
    "    except Exception as e:\n",
    "        print(f\"Error saving figure {i}: {e}\")\n",
    "\n",
    "# Step 1: Retrieve TSDataSampler and extract the underlying DataFrame\n",
    "label_sampler = dataset.prepare(segments=\"test\", col_set=\"label\", only_label=True)\n",
    "label_df = label_sampler.idx_df  # Extract the DataFrame\n",
    "\n",
    "# Step 2: Reshape label_df to long format\n",
    "label_df = label_df.reset_index()  # Include datetime as a column\n",
    "label_df_long = pd.melt(\n",
    "    label_df,\n",
    "    id_vars=[\"datetime\"],  # Keep datetime as is\n",
    "    var_name=\"instrument\",  # Former column names become instrument names\n",
    "    value_name=\"label\"  # Values in the DataFrame become the label column\n",
    ")\n",
    "label_df_long = label_df_long.dropna(subset=[\"label\"])  # Drop NaN labels\n",
    "\n",
    "# Debugging: Check the reshaped DataFrame\n",
    "print(\"Reshaped label DataFrame:\")\n",
    "print(label_df_long.head())\n",
    "\n",
    "# Step 3: Combine with predictions\n",
    "# Ensure pred_df is in the long format with columns: datetime, instrument, prediction\n",
    "pred_label = pd.merge(label_df_long, pred_df, on=[\"datetime\", \"instrument\"], how=\"inner\")\n",
    "\n",
    "# Step 4: Rename the prediction column to 'score'\n",
    "pred_label = pred_label.rename(columns={0: \"score\"})\n",
    "\n",
    "# Drop rows with NaNs in the `label` or `score` columns\n",
    "pred_label = pred_label.dropna(subset=[\"label\", \"score\"])\n",
    "\n",
    "# Verify there are no NaNs remaining\n",
    "print(pred_label.isna().sum())\n",
    "\n",
    "# Convert `label` and `score` columns to numeric, coercing errors to NaN\n",
    "pred_label[\"label\"] = pd.to_numeric(pred_label[\"label\"], errors=\"coerce\")\n",
    "pred_label[\"score\"] = pd.to_numeric(pred_label[\"score\"], errors=\"coerce\")\n",
    "\n",
    "# Step 5: Set datetime and instrument as a multi-level index\n",
    "pred_label = pred_label.set_index([\"datetime\", \"instrument\"])  # Set the multi-level index\n",
    "\n",
    "# Verify the final structure\n",
    "\n",
    "figs = analysis_position.score_ic_graph(pred_label, show_notebook=False)\n",
    "for i, _fig in enumerate(figs):\n",
    "    fig_path = f\"{save_dir}/IC图表{i}.png\"\n",
    "    try:\n",
    "        _fig.write_image(fig_path)\n",
    "        print(f\"Saved figure {i} to {fig_path}\")\n",
    "    except Exception as e:\n",
    "        print(f\"Error saving figure {i}: {e}\")\n",
    "\n",
    "figs = analysis_model.model_performance_graph(pred_label, show_notebook=False)\n",
    "for i, _fig in enumerate(figs):\n",
    "    fig_path = f\"{save_dir}/模型性能图表{i}.png\"\n",
    "    try:\n",
    "        _fig.write_image(fig_path)\n",
    "        print(f\"Saved figure {i} to {fig_path}\")\n",
    "    except Exception as e:\n",
    "        print(f\"Error saving figures {i}: {e}\")\n",
    "\n",
    "\n",
    "print(f\"[Status]: Mission Completed\".upper())"
   ]
  }
 ],
 "metadata": {
  "kernelspec": {
   "display_name": "MASTER",
   "language": "python",
   "name": "python3"
  },
  "language_info": {
   "codemirror_mode": {
    "name": "ipython",
    "version": 3
   },
   "file_extension": ".py",
   "mimetype": "text/x-python",
   "name": "python",
   "nbconvert_exporter": "python",
   "pygments_lexer": "ipython3",
   "version": "3.12.9"
  },
  "toc": {
   "base_numbering": 1,
   "nav_menu": {},
   "number_sections": true,
   "sideBar": true,
   "skip_h1_title": false,
   "title_cell": "Table of Contents",
   "title_sidebar": "Contents",
   "toc_cell": false,
   "toc_position": {},
   "toc_section_display": true,
   "toc_window_display": false
  }
 },
 "nbformat": 4,
 "nbformat_minor": 4
}
